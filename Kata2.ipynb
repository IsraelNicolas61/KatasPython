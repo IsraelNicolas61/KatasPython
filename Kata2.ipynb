{
 "cells": [
  {
   "cell_type": "markdown",
   "metadata": {},
   "source": [
    "## Crear entorno Virtual\n",
    "\n",
    "C:\\Users\\israe>cd LaunchX\n",
    "\n",
    "C:\\Users\\israe\\LaunchX>py -m venv env\n",
    "\n",
    "C:\\Users\\israe\\LaunchX>env\\Scripts\\activate\n",
    "\n",
    "(env) C:\\Users\\israe\\LaunchX>"
   ]
  },
  {
   "cell_type": "markdown",
   "metadata": {},
   "source": [
    "## Instalar una biblioteca\n",
    "\n",
    "(env) C:\\Users\\israe\\LaunchX>pip freeze\n",
    "\n",
    "(env) C:\\Users\\israe\\LaunchX>pip install python-dateutil \n",
    "\n",
    "Requirement already satisfied: python-dateutil in c:\\users\\israe\\launchx\\env\\lib\\site-packages (2.8.2)\n",
    "\n",
    "Requirement already satisfied: six>=1.5 in c:\\users\\israe\\launchx\\env\\lib\\site-packages (from python-dateutil) (1.16.0)\n",
    "\n",
    "(env) C:\\Users\\israe\\LaunchX>pip freeze\n",
    "\n",
    "python-dateutil==2.8.2 \n",
    "\n",
    "six==1.16.0"
   ]
  },
  {
   "cell_type": "markdown",
   "metadata": {},
   "source": [
    "## Desactivar un entorno virtual\n",
    "\n",
    "(env) C:\\Users\\israe\\LaunchX>deactivate\n",
    "\n",
    "C:\\Users\\israe\\LaunchX>"
   ]
  }
 ],
 "metadata": {
  "language_info": {
   "name": "python"
  },
  "orig_nbformat": 4
 },
 "nbformat": 4,
 "nbformat_minor": 2
}
