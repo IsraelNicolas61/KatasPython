{
 "cells": [
  {
   "cell_type": "markdown",
   "metadata": {},
   "source": [
    "# Kata 9"
   ]
  },
  {
   "cell_type": "markdown",
   "metadata": {},
   "source": [
    "### Ejercicio 1: Uso de funciones en Python"
   ]
  },
  {
   "cell_type": "code",
   "execution_count": null,
   "metadata": {},
   "outputs": [],
   "source": [
    "# Función para leer 3 tanques de combustible y muestre el promedio\n",
    "\n",
    "def reporte(tanque1, tanque2, tanque3):\n",
    "    promedio = (tanque1 + tanque2 + tanque3) / 3\n",
    "    return f\"\"\"Reporte de Combustible:\n",
    "    Promedio total:{promedio}%\n",
    "    Tanque 1: {tanque1}%\n",
    "    Tanque 2: {tanque2}%\n",
    "    Tanque 3: {tanque3}%\n",
    "    \"\"\""
   ]
  },
  {
   "cell_type": "code",
   "execution_count": null,
   "metadata": {},
   "outputs": [],
   "source": [
    "# Llamamos a la función que genera el reporte print(funcion(tanque1, tanque2, tanque3))\n",
    "\n",
    "print(reporte(85, 80, 90))"
   ]
  },
  {
   "cell_type": "code",
   "execution_count": null,
   "metadata": {},
   "outputs": [],
   "source": [
    "# Función promedio \n",
    "\n",
    "def prom(valor):\n",
    "    total = sum(valor)\n",
    "    artiulos = len(valor)\n",
    "    return total / artiulos\n",
    "\n",
    "prom([65, 75, 85])"
   ]
  },
  {
   "cell_type": "code",
   "execution_count": null,
   "metadata": {},
   "outputs": [],
   "source": [
    "# Actualiza la función\n",
    "\n",
    "def reportes(tanque1, tanque2, tanque3):\n",
    "    return f\"\"\"Reporte de Combustible:\n",
    "    Promedio total:{prom([tanque1, tanque2, tanque3])}%\n",
    "    Tanque 1: {tanque1}%\n",
    "    Tanque 2: {tanque2}%\n",
    "    Tanque 3: {tanque3}%\n",
    "    \"\"\"\n",
    "print(reportes(85, 80, 90))"
   ]
  },
  {
   "cell_type": "markdown",
   "metadata": {},
   "source": [
    "### Ejercicio 2: Trabajo con argumentos de palabra clave"
   ]
  },
  {
   "cell_type": "code",
   "execution_count": 2,
   "metadata": {},
   "outputs": [
    {
     "name": "stdout",
     "output_type": "stream",
     "text": [
      " REPORTE DE MISIÓN\n",
      "    Mision a Moon\n",
      "    Tiempo total de viaje 142 minutos\n",
      "    Combustible restante 1300000 \n",
      "    \n"
     ]
    }
   ],
   "source": [
    "# Función con un informe preciso de la misión. Considera hora de prelanzamiento, tiempo de vuelo, destino,\n",
    "# tanque externo y tanque interno\n",
    "\n",
    "def repmision(prelanzamiento, tiempo_vuelo, destino, tanqueext, tanqueint):\n",
    "    return f\"\"\" REPORTE DE MISIÓN\n",
    "    Mision a {destino}\n",
    "    Tiempo total de viaje {prelanzamiento + tiempo_vuelo} minutos\n",
    "    Combustible restante {tanqueext + tanqueint} \n",
    "    \"\"\"\n",
    "\n",
    "print(repmision(56, 86, \"Moon\", 500000, 800000))"
   ]
  },
  {
   "cell_type": "code",
   "execution_count": 4,
   "metadata": {},
   "outputs": [
    {
     "name": "stdout",
     "output_type": "stream",
     "text": [
      "\n",
      "    Misión a: Moon\n",
      "    Tiempo total de viaje: 104 minutos\n",
      "    Combustible restante: 730000\n",
      "    \n"
     ]
    }
   ],
   "source": [
    "# Escribe tu nueva función de reporte\n",
    "\n",
    "def mission_report(destino, *minutes, **fuel_reservoirs):\n",
    "    return f\"\"\"\n",
    "    Misión a: {destino}\n",
    "    Tiempo total de viaje: {sum(minutes)} minutos\n",
    "    Combustible restante: {sum(fuel_reservoirs.values())}\n",
    "    \"\"\"\n",
    "\n",
    "print(mission_report(\"Moon\", 18, 22, 64, interno=450000, externo=280000))"
   ]
  },
  {
   "cell_type": "code",
   "execution_count": 5,
   "metadata": {},
   "outputs": [
    {
     "name": "stdout",
     "output_type": "stream",
     "text": [
      " REPORTE DE MISIÓN\n",
      "    Misión a: Moon\n",
      "    Tiempo total de viaje: 74 minutos\n",
      "    Combustible restante: 600000\n",
      "    interno tanque --> 350000 galones\n",
      "externo tanque --> 250000 galones\n",
      "\n"
     ]
    }
   ],
   "source": [
    "# Escribe tu nueva función\n",
    "def mission_report(destino, *minutes, **fuel_reservoirs):\n",
    "    reporte = f\"\"\" REPORTE DE MISIÓN\n",
    "    Misión a: {destino}\n",
    "    Tiempo total de viaje: {sum(minutes)} minutos\n",
    "    Combustible restante: {sum(fuel_reservoirs.values())}\n",
    "    \"\"\"\n",
    "    for tanqueext, gallons in fuel_reservoirs.items():\n",
    "        reporte += f\"{tanqueext} tanque --> {gallons} galones\\n\"\n",
    "    return reporte\n",
    "\n",
    "print(mission_report(\"Moon\", 8, 11, 55, interno=350000, externo=250000))\n"
   ]
  },
  {
   "cell_type": "code",
   "execution_count": null,
   "metadata": {},
   "outputs": [],
   "source": []
  }
 ],
 "metadata": {
  "interpreter": {
   "hash": "18cc07bb5983560fe4752c4699abec656b1b3fff510cd01d73851768b2ddb620"
  },
  "kernelspec": {
   "display_name": "Python 3.10.2 64-bit",
   "language": "python",
   "name": "python3"
  },
  "language_info": {
   "codemirror_mode": {
    "name": "ipython",
    "version": 3
   },
   "file_extension": ".py",
   "mimetype": "text/x-python",
   "name": "python",
   "nbconvert_exporter": "python",
   "pygments_lexer": "ipython3",
   "version": "3.10.2"
  },
  "orig_nbformat": 4
 },
 "nbformat": 4,
 "nbformat_minor": 2
}
